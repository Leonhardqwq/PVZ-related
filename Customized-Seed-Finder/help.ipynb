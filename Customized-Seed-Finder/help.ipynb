{
 "cells": [
  {
   "cell_type": "code",
   "execution_count": 1,
   "metadata": {},
   "outputs": [],
   "source": [
    "import pandas as pd\n",
    "import numpy as np\n",
    "\n",
    "def _int32(x):  return int(0xFFFFFFFF & x)\n",
    "id = 1\n",
    "mode = 13\n",
    "level = 1000\n",
    "filename = 'analyze.xlsx'"
   ]
  },
  {
   "cell_type": "code",
   "execution_count": 2,
   "metadata": {},
   "outputs": [
    {
     "name": "stdout",
     "output_type": "stream",
     "text": [
      "Sheet Name: DE 连红\n",
      "Sheet Name: NE 连红\n",
      "Sheet Name: PE 连红\n",
      "Sheet Name: RE 连红\n",
      "Sheet Name: DE 连红车\n",
      "Sheet Name: PE 连车丑\n",
      "Sheet Name: PE 连车\n",
      "Sheet Name: PE 连红车\n",
      "Sheet Name: PE 连红气|红橄\n",
      "Sheet Name: DE 红100f\n",
      "Sheet Name: NE 红100f\n",
      "Sheet Name: PE 红100f\n",
      "Sheet Name: RE 红100f\n",
      "Sheet Name: DE 红2车100f\n",
      "Sheet Name: DE 红4车气100f\n",
      "Sheet Name: NE 红6橄气篮2舞丑杆100f\n"
     ]
    }
   ],
   "source": [
    "mode_dict = {'D':11,'N':12,'P':13,'F':14,'R':15}\n",
    "all_sheets_dict = pd.read_excel(filename, sheet_name=None)\n",
    "new_sheets_dict = {}\n",
    "\n",
    "for sheet_name, df in all_sheets_dict.items():\n",
    "    print(f\"Sheet Name: {sheet_name}\")\n",
    "    if sheet_name[0] in mode_dict:\n",
    "        mode = mode_dict[sheet_name[0]]\n",
    "    else:\n",
    "        mode = 13\n",
    "        \n",
    "    info_read = pd.read_excel(filename,header=None,sheet_name=sheet_name)\n",
    "    N = len(info_read)\n",
    "    seed_list = []\n",
    "    seed_dict = {}\n",
    "    for i in range(N):\n",
    "        seed_sublist = []\n",
    "        tmp_list = info_read.iloc[i,1:].to_list()\n",
    "        num = info_read.iloc[i,0]\n",
    "        for s in tmp_list:\n",
    "            if np.isnan(s):\n",
    "                break\n",
    "            tmp_s = _int32(int(s))\n",
    "            s_text = f'{_int32(tmp_s-id-mode-0x65*level):X}'\n",
    "            seed_sublist.append(s_text)\n",
    "        seed_dict[num] = seed_sublist\n",
    "    output_real_df = pd.DataFrame.from_dict(seed_dict, orient='index').T\n",
    "    output_real_df_name = f'{sheet_name} game{id}_{mode} {level*2}f'\n",
    "    new_sheets_dict[output_real_df_name] = output_real_df\n",
    "    \n",
    "with pd.ExcelWriter('analyze_real.xlsx') as writer:\n",
    "    for sheet_name, df in new_sheets_dict.items():\n",
    "        df.to_excel(writer, sheet_name=sheet_name,index=False)\n"
   ]
  }
 ],
 "metadata": {
  "kernelspec": {
   "display_name": "base",
   "language": "python",
   "name": "python3"
  },
  "language_info": {
   "codemirror_mode": {
    "name": "ipython",
    "version": 3
   },
   "file_extension": ".py",
   "mimetype": "text/x-python",
   "name": "python",
   "nbconvert_exporter": "python",
   "pygments_lexer": "ipython3",
   "version": "3.12.4"
  }
 },
 "nbformat": 4,
 "nbformat_minor": 2
}
